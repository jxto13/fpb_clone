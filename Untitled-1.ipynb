{
 "cells": [
  {
   "cell_type": "code",
   "execution_count": 1,
   "metadata": {},
   "outputs": [],
   "source": [
    "from flask import Flask, render_template\n",
    "from datetime import datetime, timedelta\n",
    "import requests, json "
   ]
  },
  {
   "cell_type": "code",
   "execution_count": 2,
   "metadata": {},
   "outputs": [],
   "source": [
    "r = requests.get('https://play.skoiy.com/zlf7zt9xgeinydl7/392719336')\n",
    "import requests\n",
    "from bs4 import BeautifulSoup\n",
    " \n",
    " \n",
    "url = 'https://play.skoiy.com/zlf7zt9xgeinydl7/392719336'\n",
    "reqs = requests.get(url)\n",
    "soup = BeautifulSoup(reqs.text, 'html.parser')\n",
    " \n"
   ]
  },
  {
   "cell_type": "code",
   "execution_count": 3,
   "metadata": {},
   "outputs": [
    {
     "data": {
      "text/plain": [
       "<video class=\"video-js vjs-light-skin vjs-big-play-left-bottom\" data-setup='{\"autoSetup\":true,\"loadingSpinner\":true,\"inactivityTimeout\":800,\"aspectRatio\":\"16:9\",\"controls\":true,\"autoplay\":false,\"muted\":false,\"preload\":false,\"loop\":false,\"poster\":\"https:\\/\\/asset.skoiy.com\\/zlf7zt9xgeinydl7\\/jc0brwuqhshe.jpg\",\"language\":\"en\",\"languages\":[],\"fluid\":true,\"sources\":[{\"type\":\"application\\/dash+xml\",\"src\":\"https:\\/\\/pull-vod-279-1.global.ssl.fastly.net\\/zlf7zt9xgeinydl7-045\\/smil:a4reerw1bbe2-w.smil\\/manifest.mpd\"}],\"plugins\":{\"bigReplay\":[],\"dock\":{\"title\":\"Sporting CP - FC Porto\",\"description\":\"\"}},\"children\":{\"mediaLoader\":[],\"posterImage\":[],\"bigPlayButton\":[],\"bigRestartButton\":[],\"titleComponent\":[],\"controlBar\":{\"children\":{\"playToggle\":[],\"currentTimeDisplay\":[],\"timeDivider\":[],\"durationDisplay\":[],\"progressControl\":[],\"customControlSpacer\":[],\"playbackRateMenuButton\":[],\"volumePanel\":{\"inline\":false},\"fullscreenToggle\":[]}},\"resizeManager\":[]},\"playsinline\":true}' id=\"my-player\"></video>"
      ]
     },
     "execution_count": 3,
     "metadata": {},
     "output_type": "execute_result"
    }
   ],
   "source": [
    "soup.find_all('video')[0]"
   ]
  },
  {
   "cell_type": "code",
   "execution_count": 4,
   "metadata": {},
   "outputs": [
    {
     "data": {
      "text/plain": [
       "'https://pull-vod-279-1.global.ssl.fastly.net/zlf7zt9xgeinydl7-045/smil:a4reerw1bbe2-w.smil/manifest.mpd'"
      ]
     },
     "execution_count": 4,
     "metadata": {},
     "output_type": "execute_result"
    }
   ],
   "source": [
    "output = json.loads(soup.find(\"video\")['data-setup'])\n",
    "output['sources'][0]['src']"
   ]
  },
  {
   "cell_type": "code",
   "execution_count": 41,
   "metadata": {},
   "outputs": [
    {
     "name": "stdout",
     "output_type": "stream",
     "text": [
      "my-player\n"
     ]
    }
   ],
   "source": [
    "urls = []\n",
    "for link in soup.find_all('video'):\n",
    "    print(link.get(\"id\"))"
   ]
  },
  {
   "cell_type": "code",
   "execution_count": 2,
   "metadata": {},
   "outputs": [],
   "source": [
    "def split_data(data):\n",
    "    title = data['profile']['l10n'][0]['title']\n",
    "    slug = data['profile']['l10n'][0]['slug']\n",
    "    image = data['profile']['l10n'][0]['image']['baseUrl'] + '/' + data['profile']['l10n'][0]['image']['file']\n",
    "    date = data['date']['publish']\n",
    "    date = date[:-6]\n",
    "    date = datetime.strptime(date,'%Y/%m/%d %H:%M:%S')\n",
    "    date += timedelta(minutes=10)\n",
    "    fase = data['playlists']['data'][0]['l10n'][0]['name']\n",
    "    embedLink = data['embedLink']\n",
    "    return [title,slug,image,date,fase,embedLink]"
   ]
  },
  {
   "cell_type": "code",
   "execution_count": 4,
   "metadata": {},
   "outputs": [],
   "source": [
    "baseURL = \"https://sky-video-api.global.ssl.fastly.net/1/channel/\"\n",
    "endURL = \"lives?iso=pt&page=1&order=asc&order_by=position&ids=playlists,labels,profile,playlists,channels\"\n",
    "\n",
    "token = \"token=1638670429_f7d796eafca3b84a9f2d5ebb81c9e08980fcc3b7_IGW1Ar7TbRE1UtQa_zlf7zt9xgeinydl7\"\n",
    "apikey = \"apikey=IGW1Ar7TbRE1UtQa&apitoken=zlf7zt9xgeinydl7\"\n",
    "\n",
    "ligas = [[\"54\",\"Liga Betclic\"],\n",
    "        [\"50\",\"Liga Betclic Feminina\"],\n",
    "        [\"70\",\"FIBA Europe Cup\"],\n",
    "        [\"49\",\"Pro Liga\"],\n",
    "        [\"52\",\"CN1 Masculina\"],\n",
    "        [\"56\",\"CN2 Masculina\"]\n",
    "        ]"
   ]
  },
  {
   "cell_type": "code",
   "execution_count": 5,
   "metadata": {},
   "outputs": [],
   "source": [
    "for i in ligas:\n",
    "    url = baseURL+i[0]+\"/\"+endURL+\"&\"+token+\"&\"+apikey\n",
    "    response = requests.get(url)\n",
    "    data = json.loads(response.text)\n",
    "    data = data['data']\n",
    "\n",
    "    tmp = []\n",
    "    size = 0\n",
    "    for j in data:\n",
    "        tmp.append(split_data(j))\n",
    "        size += 1\n",
    "    i.append(size)\n",
    "    i.append(tmp)"
   ]
  },
  {
   "cell_type": "code",
   "execution_count": 15,
   "metadata": {},
   "outputs": [
    {
     "data": {
      "text/plain": [
       "[['CD Póvoa - Vitória SC',\n",
       "  'cd-povoa-vitoria-sc',\n",
       "  'https://asset.skoiy.com/zlf7zt9xgeinydl7/tccatsg6ubrs.jpg',\n",
       "  datetime.datetime(2022, 3, 26, 15, 0),\n",
       "  'Fase Regular 22',\n",
       "  'https://play.skoiy.com/zlf7zt9xgeinydl7/6961853183'],\n",
       " ['SL Benfica - Lusitânia Expert',\n",
       "  'sl-benfica-lusitania-expert',\n",
       "  'https://asset.skoiy.com/zlf7zt9xgeinydl7/gq2qhpfi0nmn.jpg',\n",
       "  datetime.datetime(2022, 3, 26, 15, 0),\n",
       "  'Fase Regular 22',\n",
       "  'https://play.skoiy.com/zlf7zt9xgeinydl7/2090994640'],\n",
       " ['Académica EFAPEL - Imortal LUZiGÁS',\n",
       "  'academica-efapel-imortal-luzigas',\n",
       "  'https://asset.skoiy.com/zlf7zt9xgeinydl7/lpwnbwb2rcla.jpg',\n",
       "  datetime.datetime(2022, 3, 26, 15, 0),\n",
       "  'Fase Regular 22',\n",
       "  'https://play.skoiy.com/zlf7zt9xgeinydl7/5235006874'],\n",
       " ['FC Porto - UD Oliveirense',\n",
       "  'fc-porto-ud-oliveirense',\n",
       "  'https://asset.skoiy.com/zlf7zt9xgeinydl7/aowzuxrggeru.jpg',\n",
       "  datetime.datetime(2022, 3, 26, 15, 0),\n",
       "  'Fase Regular 22',\n",
       "  'https://play.skoiy.com/zlf7zt9xgeinydl7/5810816185'],\n",
       " ['Sporting CP - CAB Madeira SAD',\n",
       "  'sporting-cp-cab-madeira-sad',\n",
       "  'https://asset.skoiy.com/zlf7zt9xgeinydl7/6xbjg05xas44.jpg',\n",
       "  datetime.datetime(2022, 3, 26, 15, 0),\n",
       "  'Fase Regular 22',\n",
       "  'https://play.skoiy.com/zlf7zt9xgeinydl7/2221763652'],\n",
       " ['Ovarense GAVEX - Illiabum Clube',\n",
       "  'ovarense-gavex-illiabum-clube',\n",
       "  'https://asset.skoiy.com/zlf7zt9xgeinydl7/uhdwubjmfasc.jpg',\n",
       "  datetime.datetime(2022, 3, 26, 15, 0),\n",
       "  'Fase Regular 22',\n",
       "  'https://play.skoiy.com/zlf7zt9xgeinydl7/3532628021']]"
      ]
     },
     "execution_count": 15,
     "metadata": {},
     "output_type": "execute_result"
    }
   ],
   "source": [
    "ligas[0][3]"
   ]
  },
  {
   "cell_type": "code",
   "execution_count": 16,
   "metadata": {},
   "outputs": [
    {
     "name": "stdout",
     "output_type": "stream",
     "text": [
      "['CD Póvoa - Vitória SC', 'cd-povoa-vitoria-sc', 'https://asset.skoiy.com/zlf7zt9xgeinydl7/tccatsg6ubrs.jpg', datetime.datetime(2022, 3, 26, 15, 0), 'Fase Regular 22', 'https://play.skoiy.com/zlf7zt9xgeinydl7/6961853183']\n",
      "['SL Benfica - Lusitânia Expert', 'sl-benfica-lusitania-expert', 'https://asset.skoiy.com/zlf7zt9xgeinydl7/gq2qhpfi0nmn.jpg', datetime.datetime(2022, 3, 26, 15, 0), 'Fase Regular 22', 'https://play.skoiy.com/zlf7zt9xgeinydl7/2090994640']\n",
      "['Académica EFAPEL - Imortal LUZiGÁS', 'academica-efapel-imortal-luzigas', 'https://asset.skoiy.com/zlf7zt9xgeinydl7/lpwnbwb2rcla.jpg', datetime.datetime(2022, 3, 26, 15, 0), 'Fase Regular 22', 'https://play.skoiy.com/zlf7zt9xgeinydl7/5235006874']\n",
      "['FC Porto - UD Oliveirense', 'fc-porto-ud-oliveirense', 'https://asset.skoiy.com/zlf7zt9xgeinydl7/aowzuxrggeru.jpg', datetime.datetime(2022, 3, 26, 15, 0), 'Fase Regular 22', 'https://play.skoiy.com/zlf7zt9xgeinydl7/5810816185']\n",
      "['Sporting CP - CAB Madeira SAD', 'sporting-cp-cab-madeira-sad', 'https://asset.skoiy.com/zlf7zt9xgeinydl7/6xbjg05xas44.jpg', datetime.datetime(2022, 3, 26, 15, 0), 'Fase Regular 22', 'https://play.skoiy.com/zlf7zt9xgeinydl7/2221763652']\n",
      "['Ovarense GAVEX - Illiabum Clube', 'ovarense-gavex-illiabum-clube', 'https://asset.skoiy.com/zlf7zt9xgeinydl7/uhdwubjmfasc.jpg', datetime.datetime(2022, 3, 26, 15, 0), 'Fase Regular 22', 'https://play.skoiy.com/zlf7zt9xgeinydl7/3532628021']\n",
      "['Galitos Barreiro - Esgueira Aveiro Oli', 'galitos-barreiro-esgueira-aveiro-oli', 'https://asset.skoiy.com/zlf7zt9xgeinydl7/h0zkqob55hsn.jpg', datetime.datetime(2022, 3, 26, 15, 0), 'Grupo Promoção - J9', 'https://play.skoiy.com/zlf7zt9xgeinydl7/7787591836']\n",
      "['Basquete de Barcelos - Olivais ABTF Betão', 'basquete-de-barcelos-olivais-abtf-betao', 'https://asset.skoiy.com/zlf7zt9xgeinydl7/dav5y2ra2yzm.jpg', datetime.datetime(2022, 3, 26, 20, 30), 'Grupo Promoção Norte - J7', 'https://play.skoiy.com/zlf7zt9xgeinydl7/2643643206']\n",
      "['Académico FC - Clube 5Basket SVSilva', 'academico-fc-clube-5basket-svsilva', 'https://asset.skoiy.com/zlf7zt9xgeinydl7/dav5y2ra2yzm.jpg', datetime.datetime(2022, 3, 27, 18, 30), 'Grupo Promoção Norte - J7', 'https://play.skoiy.com/zlf7zt9xgeinydl7/6211789755']\n",
      "['FC Porto Sub23 - GD Gafanha', 'fc-porto-sub23-gd-gafanha', 'https://asset.skoiy.com/zlf7zt9xgeinydl7/e7ta1bubzhqz.jpg', datetime.datetime(2022, 3, 27, 17, 0), '2ª Fase - Norte A 6', 'https://play.skoiy.com/zlf7zt9xgeinydl7/3937734455']\n"
     ]
    }
   ],
   "source": [
    "for i in ligas:\n",
    "        for j in i[3]:\n",
    "                print(j)"
   ]
  }
 ],
 "metadata": {
  "interpreter": {
   "hash": "e7370f93d1d0cde622a1f8e1c04877d8463912d04d973331ad4851f04de6915a"
  },
  "kernelspec": {
   "display_name": "Python 3.10.2 64-bit",
   "language": "python",
   "name": "python3"
  },
  "language_info": {
   "codemirror_mode": {
    "name": "ipython",
    "version": 3
   },
   "file_extension": ".py",
   "mimetype": "text/x-python",
   "name": "python",
   "nbconvert_exporter": "python",
   "pygments_lexer": "ipython3",
   "version": "3.10.6"
  },
  "orig_nbformat": 4
 },
 "nbformat": 4,
 "nbformat_minor": 2
}
