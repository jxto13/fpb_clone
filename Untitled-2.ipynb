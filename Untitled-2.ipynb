{
 "cells": [
  {
   "cell_type": "code",
   "execution_count": 2,
   "metadata": {},
   "outputs": [
    {
     "data": {
      "text/plain": [
       "<Task pending name='Task-4' coro=<main() running at /tmp/ipykernel_33708/2839425020.py:7>>"
      ]
     },
     "execution_count": 2,
     "metadata": {},
     "output_type": "execute_result"
    },
    {
     "name": "stdout",
     "output_type": "stream",
     "text": [
      "{'continents': [{'code': 'AF', 'name': 'Africa'}, {'code': 'AN', 'name': 'Antarctica'}, {'code': 'AS', 'name': 'Asia'}, {'code': 'EU', 'name': 'Europe'}, {'code': 'NA', 'name': 'North America'}, {'code': 'OC', 'name': 'Oceania'}, {'code': 'SA', 'name': 'South America'}]}\n"
     ]
    }
   ],
   "source": [
    "import asyncio\n",
    "\n",
    "from gql import Client, gql\n",
    "from gql.transport.aiohttp import AIOHTTPTransport\n",
    "\n",
    "\n",
    "async def main():\n",
    "\n",
    "    transport = AIOHTTPTransport(url=\"https://countries.trevorblades.com/graphql\")\n",
    "\n",
    "    # Using `async with` on the client will start a connection on the transport\n",
    "    # and provide a `session` variable to execute queries on this connection\n",
    "    async with Client(\n",
    "        transport=transport, fetch_schema_from_transport=True,\n",
    "    ) as session:\n",
    "\n",
    "        # Execute single query\n",
    "        query = gql(\n",
    "            \"\"\"\n",
    "            query getContinents {\n",
    "              continents {\n",
    "                code\n",
    "                name\n",
    "              }\n",
    "            }\n",
    "        \"\"\"\n",
    "        )\n",
    "\n",
    "        result = await session.execute(query)\n",
    "        print(result)\n",
    "\n",
    "\n",
    "loop = asyncio.get_running_loop()\n",
    "loop.create_task(main())"
   ]
  },
  {
   "cell_type": "code",
   "execution_count": 1,
   "metadata": {},
   "outputs": [],
   "source": [
    "baseURL = \"https://sky-video-api.global.ssl.fastly.net/1/channel/\"\n",
    "endURL = \"videos?iso=pt&page=1&order=asc&order_by=position&ids=playlists,labels,profile,playlists,channels\"\n",
    "\n",
    "token = \"token=1638670429_f7d796eafca3b84a9f2d5ebb81c9e08980fcc3b7_IGW1Ar7TbRE1UtQa_zlf7zt9xgeinydl7\"\n",
    "apikey = \"apikey=IGW1Ar7TbRE1UtQa&apitoken=zlf7zt9xgeinydl7\"\n",
    "\n",
    "ligas = [[\"99\",\"Liga Betclic\"],\n",
    "        # [\"100\",\"Liga Betclic Feminina\"],\n",
    "        # [\"107\",\"1ª Divisão Feminina\"],\n",
    "        # [\"70\",\"FIBA Europe Cup\"],\n",
    "        # [\"105\",\"Pro Liga\"],\n",
    "        \n",
    "        #[\"52\",\"CN1 Masculina\"],\n",
    "        #[\"56\",\"CN2 Masculina\"]\n",
    "        ]"
   ]
  }
 ],
 "metadata": {
  "kernelspec": {
   "display_name": "Python 3.10.6 64-bit",
   "language": "python",
   "name": "python3"
  },
  "language_info": {
   "codemirror_mode": {
    "name": "ipython",
    "version": 3
   },
   "file_extension": ".py",
   "mimetype": "text/x-python",
   "name": "python",
   "nbconvert_exporter": "python",
   "pygments_lexer": "ipython3",
   "version": "3.10.6"
  },
  "orig_nbformat": 4,
  "vscode": {
   "interpreter": {
    "hash": "e7370f93d1d0cde622a1f8e1c04877d8463912d04d973331ad4851f04de6915a"
   }
  }
 },
 "nbformat": 4,
 "nbformat_minor": 2
}
